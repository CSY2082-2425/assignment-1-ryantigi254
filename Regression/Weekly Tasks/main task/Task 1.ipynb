{
 "cells": [
  {
   "cell_type": "markdown",
   "metadata": {
    "id": "TzmpT1YiIAVq"
   },
   "source": [
    "# Linear Regression"
   ]
  },
  {
   "cell_type": "markdown",
   "metadata": {
    "id": "UzMghmF1IAVq"
   },
   "source": [
    "## Create dataset"
   ]
  },
  {
   "cell_type": "code",
   "execution_count": 1,
   "metadata": {
    "id": "PMWrMYBiIAVq"
   },
   "outputs": [],
   "source": [
    "import numpy as np\n",
    "\n",
    "np.random.seed(42)  # to make this code example reproducible\n",
    "m = 100  # number of instances\n",
    "X = 2 * np.random.rand(m, 1)  # column vector\n",
    "y = 4 + 3 * X + np.random.randn(m, 1)  # column vector"
   ]
  },
  {
   "cell_type": "markdown",
   "metadata": {
    "id": "ZCnYCY03IAVs"
   },
   "source": [
    "# Gradient Descent\n"
   ]
  },
  {
   "cell_type": "code",
   "execution_count": 2,
   "metadata": {},
   "outputs": [],
   "source": [
    "import numpy as np\n",
    "\n",
    "def batch_gradient_descent(X, y, learning_rate=0.01, epochs=1000):\n",
    "    m = len(y)\n",
    "    theta = np.random.randn(X.shape[1], 1)  # Initialize random weights\n",
    "    cost_history = []\n",
    "    \n",
    "    for epoch in range(epochs):\n",
    "        predictions = X.dot(theta)\n",
    "        error = predictions - y\n",
    "        gradients = (2/m) * X.T.dot(error)\n",
    "        theta -= learning_rate * gradients\n",
    "        \n",
    "        # Compute the cost function (Mean Squared Error)\n",
    "        cost = (1/m) * np.sum(error ** 2)\n",
    "        cost_history.append(cost)\n",
    "    \n",
    "    return theta, cost_history\n"
   ]
  },
  {
   "cell_type": "markdown",
   "metadata": {},
   "source": [
    "#### Notes\n",
    "m = len(y):\n",
    "What it does: This line calculates the number of samples or data points in the dataset.\n",
    "\n",
    "Explanation: The variable y is the vector of the target values (the actual output or dependent variable). len(y) gives the number of entries in y, which is the same as the number of rows in X, the input matrix. This is important because many calculations in gradient descent (such as the mean squared error or gradient) involve dividing by the number of samples (m).\n",
    "\n",
    "Example: If you have 100 data points, m would be 100.\n",
    "\n",
    "2. theta = np.random.randn(X.shape[1], 1):\n",
    "What it does: This line initializes the model parameters (weights), theta, to small random values.\n",
    "\n",
    "Explanation:\n",
    "\n",
    "X.shape[1] refers to the number of features (or columns) in the input matrix X. For example, if you have two input features (e.g., age and income), X.shape[1] would return 2.\n",
    "np.random.randn(X.shape[1], 1) generates random numbers from a standard normal distribution with the shape (number of features, 1). The parameters are initialized randomly because this allows gradient descent to start with different values and find the optimal solution by minimizing the cost function.\n",
    "Example: If your input matrix X has 2 features, theta will be initialized as a 2x1 column vector with random values.\n",
    "\n",
    "3. cost_history = []:\n",
    "What it does: This line initializes an empty list to store the cost values at each epoch.\n",
    "\n",
    "Explanation: The cost function measures how well the model's predictions match the actual data. By storing the cost at each step, we can monitor the progress of the gradient descent algorithm and ensure it is converging to a good solution.\n",
    "\n",
    "4. for epoch in range(epochs):\n",
    "What it does: This line starts a loop that will iterate over the number of epochs specified by the user.\n",
    "Example: If epochs is set to 1000, the loop will run 1000 times, updating the model parameters and cost at each step.\n",
    "\n",
    "## Batch Gradient Descent"
   ]
  },
  {
   "cell_type": "code",
   "execution_count": 3,
   "metadata": {
    "id": "fSz5IpQ8IAVt"
   },
   "outputs": [],
   "source": [
    "from sklearn.preprocessing import add_dummy_feature\n",
    "\n",
    "eta = 0.1  # learning rate\n",
    "n_epochs = 1000\n",
    "X_b = add_dummy_feature(X)  # add x0 = 1 to each instance\n",
    "m = len(X_b)  # number of instances\n",
    "\n",
    "np.random.seed(42)\n",
    "theta = np.random.randn(2, 1)  # randomly initialized model parameters\n",
    "\n",
    "for epoch in range(n_epochs):\n",
    "    gradients = 2 / m * X_b.T @ (X_b @ theta - y)\n",
    "    theta = theta - eta * gradients\n",
    "    #print(epoch, gradients, theta)"
   ]
  },
  {
   "cell_type": "markdown",
   "metadata": {
    "id": "by1ytKb3IAVt"
   },
   "source": [
    "The trained model parameters:"
   ]
  },
  {
   "cell_type": "code",
   "execution_count": 4,
   "metadata": {
    "colab": {
     "base_uri": "https://localhost:8080/"
    },
    "id": "doEESjVbIAVt",
    "outputId": "9579f520-e6ab-4cca-d4eb-e9d604261b7a"
   },
   "outputs": [
    {
     "data": {
      "text/plain": [
       "array([[4.21509616],\n",
       "       [2.77011339]])"
      ]
     },
     "execution_count": 4,
     "metadata": {},
     "output_type": "execute_result"
    }
   ],
   "source": [
    "theta"
   ]
  },
  {
   "cell_type": "code",
   "execution_count": 5,
   "metadata": {
    "colab": {
     "base_uri": "https://localhost:8080/",
     "height": 412
    },
    "id": "jTkEnI0tIAVt",
    "outputId": "4d612363-8075-4374-aedc-3f1a5e1d69d1"
   },
   "outputs": [
    {
     "ename": "NameError",
     "evalue": "name 'plt' is not defined",
     "output_type": "error",
     "traceback": [
      "\u001b[1;31m---------------------------------------------------------------------------\u001b[0m",
      "\u001b[1;31mNameError\u001b[0m                                 Traceback (most recent call last)",
      "Cell \u001b[1;32mIn[5], line 31\u001b[0m\n\u001b[0;32m     28\u001b[0m np\u001b[38;5;241m.\u001b[39mrandom\u001b[38;5;241m.\u001b[39mseed(\u001b[38;5;241m42\u001b[39m)\n\u001b[0;32m     29\u001b[0m theta \u001b[38;5;241m=\u001b[39m np\u001b[38;5;241m.\u001b[39mrandom\u001b[38;5;241m.\u001b[39mrandn(\u001b[38;5;241m2\u001b[39m, \u001b[38;5;241m1\u001b[39m)  \u001b[38;5;66;03m# random initialization\u001b[39;00m\n\u001b[1;32m---> 31\u001b[0m \u001b[43mplt\u001b[49m\u001b[38;5;241m.\u001b[39mfigure(figsize\u001b[38;5;241m=\u001b[39m(\u001b[38;5;241m10\u001b[39m, \u001b[38;5;241m4\u001b[39m))\n\u001b[0;32m     32\u001b[0m plt\u001b[38;5;241m.\u001b[39msubplot(\u001b[38;5;241m131\u001b[39m)\n\u001b[0;32m     33\u001b[0m plot_gradient_descent(theta, eta\u001b[38;5;241m=\u001b[39m\u001b[38;5;241m0.02\u001b[39m)\n",
      "\u001b[1;31mNameError\u001b[0m: name 'plt' is not defined"
     ]
    }
   ],
   "source": [
    "# extra code – generates and saves Figure 4–8\n",
    "\n",
    "import matplotlib as mpl\n",
    "import numpy as np\n",
    "\n",
    "def plot_gradient_descent(theta, eta):\n",
    "    m = len(X_b)\n",
    "    plt.plot(X, y, \"b.\")\n",
    "    n_epochs = 1000\n",
    "    n_shown = 20\n",
    "    theta_path = []\n",
    "    X_new = np.linspace(0, 2, 100).reshape(-1, 1)  # Generate new x values\n",
    "    X_new_b = add_dummy_feature(X_new)  # Add bias term to new x values\n",
    "    for epoch in range(n_epochs):\n",
    "        if epoch < n_shown:\n",
    "            y_predict = X_new_b @ theta\n",
    "            color = mpl.colors.rgb2hex(plt.cm.OrRd(epoch / n_shown + 0.15))\n",
    "            plt.plot(X_new, y_predict, linestyle=\"solid\", color=color)\n",
    "        gradients = 2 / m * X_b.T @ (X_b @ theta - y)\n",
    "        theta = theta - eta * gradients\n",
    "        theta_path.append(theta)\n",
    "    plt.xlabel(\"$x_1$\")\n",
    "    plt.axis([0, 2, 0, 15])\n",
    "    plt.grid()\n",
    "    plt.title(fr\"$\\eta = {eta}$\")\n",
    "    return theta_path\n",
    "\n",
    "np.random.seed(42)\n",
    "theta = np.random.randn(2, 1)  # random initialization\n",
    "\n",
    "plt.figure(figsize=(10, 4))\n",
    "plt.subplot(131)\n",
    "plot_gradient_descent(theta, eta=0.02)\n",
    "plt.ylabel(\"$y$\", rotation=0)\n",
    "plt.subplot(132)\n",
    "theta_path_bgd = plot_gradient_descent(theta, eta=0.1)\n",
    "plt.gca().axes.yaxis.set_ticklabels([])\n",
    "plt.subplot(133)\n",
    "plt.gca().axes.yaxis.set_ticklabels([])\n",
    "plot_gradient_descent(theta, eta=0.5)\n",
    "#save_fig(\"gradient_descent_plot\")\n",
    "plt.show()"
   ]
  },
  {
   "cell_type": "markdown",
   "metadata": {},
   "source": [
    "# WEEKLY TASK \n",
    "Part 1\n",
    "\n",
    "Thought Process: \n",
    "From reading the first task, it is noted that we are asked to continue the learning process until a good solution is found. So first I think we should have a way to determine when the model gets the lowest/global minimum cost maybe with a loop checking through the run after all iterations/epochs have happened then finds the best model configuration. If none is found then the system, should update the number of epochs/keep updating the number of epochs/should continue running until we get the lowest cost. In the function we should also aim to save the best models maybe in two folders if an iteration happens and then we get a minimum but it's a local minimum or just a minimum but not global minimum then it's saved in a separate folder. and for the global minimum it's saved in a separate folder; that is the configurations.\n"
   ]
  },
  {
   "cell_type": "markdown",
   "metadata": {},
   "source": [
    "Great! We’ll go with the following approach:\n",
    "\n",
    "- **Threshold**: We’ll use a **very small change** (like `1e-6`) in the cost between consecutive epochs as our stopping criterion.\n",
    "- Additionally, we’ll implement logic to check if the gradient becomes positive after detecting a low cost (which may signal convergence).\n",
    "- **JSON** format: We’ll save model configurations (parameters and cost) in **JSON files**—one for local minima and one for global minima.\n",
    "\n",
    "Now let’s proceed step by step:\n",
    "\n",
    "### Pseudo-code for what we’ll implement:\n",
    "1. **Initialization**:\n",
    "   - Start with small epochs (e.g., 100).\n",
    "   - Initialize model parameters randomly.\n",
    "\n",
    "2. **Loop** (Adaptive Epochs):\n",
    "   - Run Batch Gradient Descent.\n",
    "   - Compute the cost and check the gradient.\n",
    "   - If the cost stops decreasing or the gradient turns positive after detecting a consistent low cost, stop training.\n",
    "   - Continue adding epochs until a global minimum is detected.\n",
    "\n",
    "3. **Save Model**:\n",
    "   - Save configurations (cost, parameters) in JSON format.\n",
    "   - Save local minima and global minima in separate files.\n",
    "\n",
    "\n",
    "### Breakdown of the Code:\n",
    "1. **Adaptive Epochs**: We start with a small number of epochs (100) and keep increasing it by 50 in each loop until a global minimum is found or convergence is detected.\n",
    "2. **Saving Models**: \n",
    "   - The model configuration (cost, parameters) is saved in **JSON files**.\n",
    "   - Local minima are saved in one folder (`models/local_min/`), and global minima are saved in another (`models/global_min/`).\n",
    "3. **Convergence Criteria**:\n",
    "   - We stop training if the **change in cost** is smaller than the threshold (`1e-6`).\n",
    "   - If the gradient becomes positive after multiple epochs, the training stops as well, assuming the algorithm is oscillating or stuck.\n",
    "\n",
    "\n",
    "Part 2\n",
    "Key Idea:\n",
    "When the learning rate is too high, the algorithm may overshoot the minimum, causing the cost function to increase rather than decrease consistently. This can lead to oscillations or divergence.\n",
    "\n",
    "Strategy:\n",
    "Check for Oscillations: Monitor if the cost function increases significantly from one epoch to the next. If this happens repeatedly, it's a sign that the learning rate may be too high.\n",
    "\n",
    "Implementation Plan:\n",
    "Monitor the Cost Function: Keep track of the cost function values over epochs.\n",
    "Detect Rapid Cost Increase: If the cost increases by more than a certain threshold (e.g., 10% compared to the previous epoch), increment an oscillation counter.\n",
    "Stop Training Early: If oscillations are detected multiple times (e.g., 3 times), raise a warning and stop the training.\n",
    "\n",
    "\n",
    "\n"
   ]
  },
  {
   "cell_type": "code",
   "execution_count": null,
   "metadata": {},
   "outputs": [
    {
     "name": "stdout",
     "output_type": "stream",
     "text": [
      "Epoch 1, Cost: 436.6763734524583\n",
      "Oscillation detected at epoch 2: cost increased by more than 10%\n",
      "Epoch 2, Cost: 4270.614403456512\n",
      "Oscillation detected at epoch 3: cost increased by more than 10%\n",
      "Epoch 3, Cost: 41832.93761056619\n",
      "Oscillation detected at epoch 4: cost increased by more than 10%\n",
      "Warning: Learning rate 1.0 may be too high. Oscillations detected 3 times.\n",
      "Total epochs run: 4\n"
     ]
    },
    {
     "data": {
      "image/png": "[encoded data removed]",
      "text/plain": [
       "<Figure size 1200x400 with 3 Axes>"
      ]
     },
     "metadata": {},
     "output_type": "display_data"
    }
   ],
   "source": [
    "import numpy as np\n",
    "import json\n",
    "import os\n",
    "import matplotlib.pyplot as plt\n",
    "import matplotlib as mpl\n",
    "from sklearn.preprocessing import add_dummy_feature\n",
    "\n",
    "def batch_gradient_descent_adaptive(X, y, eta=0.1, initial_epochs=100, threshold=1e-6, max_epochs=10000):\n",
    "    X_b = add_dummy_feature(X)  # Add x0 = 1 to each instance\n",
    "    m = len(X_b)  # Number of instances\n",
    "    \n",
    "    np.random.seed(42)\n",
    "    theta = np.random.randn(X_b.shape[1], 1)  # Randomly initialized model parameters\n",
    "    \n",
    "    cost_history = []\n",
    "    theta_path = []\n",
    "    global_minimum = None\n",
    "    local_minima = []\n",
    "    total_epochs = 0\n",
    "    epochs = initial_epochs\n",
    "    \n",
    "    # Variables for detecting high learning rate\n",
    "    oscillation_count = 0\n",
    "    max_oscillations = 3  # Number of oscillations before detecting a high learning rate\n",
    "    prev_cost = float('inf')\n",
    "    cost_increase_threshold = 0.1  # 10% increase in cost\n",
    "    \n",
    "    # Create directories to save models\n",
    "    os.makedirs('models/global_min', exist_ok=True)\n",
    "    os.makedirs('models/local_min', exist_ok=True)\n",
    "    \n",
    "    while total_epochs < max_epochs:\n",
    "        converged = False  # Flag to check if convergence occurred in this batch\n",
    "        for epoch in range(epochs):\n",
    "            gradients = 2 / m * X_b.T @ (X_b @ theta - y)\n",
    "            theta = theta - eta * gradients\n",
    "            theta_path.append(theta.copy())\n",
    "            \n",
    "            # Compute the cost function (Mean Squared Error)\n",
    "            cost = (1 / m) * np.sum((X_b @ theta - y) ** 2)\n",
    "            cost_history.append(cost)\n",
    "            \n",
    "            # Check if cost change is below the threshold\n",
    "            if abs(prev_cost - cost) < threshold:\n",
    "                converged = True\n",
    "                print(f\"Converged at epoch {total_epochs + epoch + 1}\")\n",
    "                break  # Stop training as change in cost is too small\n",
    "            \n",
    "            # Check for oscillations (cost increasing significantly)\n",
    "            if cost > prev_cost * (1 + cost_increase_threshold):\n",
    "                oscillation_count += 1\n",
    "                print(f\"Oscillation detected at epoch {total_epochs + epoch + 1}: cost increased by more than 10%\")\n",
    "                if oscillation_count >= max_oscillations:\n",
    "                    print(f\"Warning: Learning rate {eta} may be too high. Oscillations detected {oscillation_count} times.\")\n",
    "                    converged = True  # Stop training due to oscillations\n",
    "                    break\n",
    "            else:\n",
    "                # Reset oscillation count if cost is decreasing\n",
    "                oscillation_count = 0\n",
    "\n",
    "            prev_cost = cost\n",
    "            \n",
    "            print(f\"Epoch {total_epochs + epoch + 1}, Cost: {cost}\")\n",
    "        \n",
    "        total_epochs += (epoch + 1)\n",
    "        \n",
    "        # Check for a local or global minimum\n",
    "        if global_minimum is None or cost < global_minimum['cost']:\n",
    "            global_minimum = {'epoch': total_epochs, 'cost': cost, 'theta': theta.tolist()}\n",
    "            # Save global minimum model\n",
    "            with open(f'models/global_min/global_model_epoch_{total_epochs}.json', 'w') as f:\n",
    "                json.dump(global_minimum, f)\n",
    "        else:\n",
    "            # Save local minima when cost improves but is not the lowest seen\n",
    "            local_minima.append({'epoch': total_epochs, 'cost': cost, 'theta': theta.tolist()})\n",
    "            with open(f'models/local_min/local_model_epoch_{total_epochs}.json', 'w') as f:\n",
    "                json.dump(local_minima[-1], f)\n",
    "        \n",
    "        if converged:\n",
    "            break  # Exit the while loop if convergence or oscillations were reached\n",
    "        \n",
    "        # Reset prev_cost for the next batch\n",
    "        prev_cost = float('inf')\n",
    "    \n",
    "    print(f\"Total epochs run: {total_epochs}\")\n",
    "    return theta, cost_history, theta_path, global_minimum, local_minima\n",
    "\n",
    "def plot_gradient_descent_adaptive(X, y, eta):\n",
    "    theta, cost_history, theta_path, global_minimum, local_minima = batch_gradient_descent_adaptive(X, y, eta)\n",
    "    \n",
    "    X_b = add_dummy_feature(X)\n",
    "    plt.figure(figsize=(12, 4))\n",
    "    \n",
    "    # Plot 1: Gradient Descent Path\n",
    "    plt.subplot(131)\n",
    "    plt.plot(X, y, \"b.\")\n",
    "    X_new = np.linspace(X.min(), X.max(), 100).reshape(-1, 1)\n",
    "    X_new_b = add_dummy_feature(X_new)\n",
    "    n_shown = min(20, len(theta_path))\n",
    "    for i, theta_i in enumerate(theta_path[:n_shown]):\n",
    "        y_predict = X_new_b @ theta_i\n",
    "        color = mpl.colors.rgb2hex(plt.cm.OrRd(i / n_shown + 0.15))\n",
    "        plt.plot(X_new, y_predict, linestyle=\"solid\", color=color)\n",
    "    plt.xlabel(\"$x_1$\")\n",
    "    plt.ylabel(\"$y$\", rotation=0)\n",
    "    plt.axis([X.min(), X.max(), y.min(), y.max()])\n",
    "    plt.grid()\n",
    "    plt.title(fr\"$\\eta = {eta}$\")\n",
    "    \n",
    "    # Plot 2: Cost History\n",
    "    plt.subplot(132)\n",
    "    plt.plot(cost_history)\n",
    "    plt.xlabel(\"Iteration\")\n",
    "    plt.ylabel(\"Cost\")\n",
    "    plt.title(\"Cost History\")\n",
    "    plt.grid()\n",
    "    \n",
    "    # Plot 3: Final Model\n",
    "    plt.subplot(133)\n",
    "    plt.plot(X, y, \"b.\")\n",
    "    y_predict = X_new_b @ theta\n",
    "    plt.plot(X_new, y_predict, \"r-\", linewidth=2, label=\"Predictions\")\n",
    "    plt.xlabel(\"$x_1$\")\n",
    "    plt.ylabel(\"$y$\", rotation=0)\n",
    "    plt.axis([X.min(), X.max(), y.min(), y.max()])\n",
    "    plt.grid()\n",
    "    plt.title(\"Final Model\")\n",
    "    plt.legend()\n",
    "    \n",
    "    plt.tight_layout()\n",
    "    plt.show()\n",
    "    \n",
    "    return theta, global_minimum, local_minima\n",
    "\n",
    "# Usage\n",
    "np.random.seed(42)\n",
    "X = 2 * np.random.rand(100, 1)\n",
    "y = 4 + 3 * X + np.random.randn(100, 1)\n",
    "\n",
    "# Appropriate Learning Rate (eta = 0.1)\n",
    "theta, global_minimum, local_minima = plot_gradient_descent_adaptive(X, y, eta=0.1)\n",
    "\n",
    "# Testing with High Learning Rate (eta = 1.0)\n",
    "# theta, global_minimum, local_minima = plot_gradient_descent_adaptive(X, y, eta=1.0)"
   ]
  },
  {
   "cell_type": "code",
   "execution_count": null,
   "metadata": {},
   "outputs": [
    {
     "ename": "NameError",
     "evalue": "name 'plt' is not defined",
     "output_type": "error",
     "traceback": [
      "\u001b[1;31m---------------------------------------------------------------------------\u001b[0m",
      "\u001b[1;31mNameError\u001b[0m                                 Traceback (most recent call last)",
      "Cell \u001b[1;32mIn[1], line 4\u001b[0m\n\u001b[0;32m      1\u001b[0m \u001b[38;5;66;03m# Visualizations and Basic Model Evaluations\u001b[39;00m\n\u001b[0;32m      2\u001b[0m \n\u001b[0;32m      3\u001b[0m \u001b[38;5;66;03m# Plot the cost history\u001b[39;00m\n\u001b[1;32m----> 4\u001b[0m \u001b[43mplt\u001b[49m\u001b[38;5;241m.\u001b[39mfigure(figsize\u001b[38;5;241m=\u001b[39m(\u001b[38;5;241m10\u001b[39m, \u001b[38;5;241m5\u001b[39m))\n\u001b[0;32m      5\u001b[0m plt\u001b[38;5;241m.\u001b[39mplot(cost_history, label\u001b[38;5;241m=\u001b[39m\u001b[38;5;124m'\u001b[39m\u001b[38;5;124mCost History\u001b[39m\u001b[38;5;124m'\u001b[39m)\n\u001b[0;32m      6\u001b[0m plt\u001b[38;5;241m.\u001b[39mxlabel(\u001b[38;5;124m'\u001b[39m\u001b[38;5;124mIteration\u001b[39m\u001b[38;5;124m'\u001b[39m)\n",
      "\u001b[1;31mNameError\u001b[0m: name 'plt' is not defined"
     ]
    }
   ],
   "source": [
    "# Visualizations and Basic Model Evaluations\n",
    "\n",
    "# Plot the cost history\n",
    "plt.figure(figsize=(10, 5))\n",
    "plt.plot(cost_history, label='Cost History')\n",
    "plt.xlabel('Iteration')\n",
    "plt.ylabel('Cost')\n",
    "plt.title('Cost History over Iterations')\n",
    "plt.legend()\n",
    "plt.grid()\n",
    "plt.show()\n",
    "\n",
    "# Plot the final model predictions\n",
    "plt.figure(figsize=(10, 5))\n",
    "plt.plot(X, y, \"b.\", label='Data Points')\n",
    "y_predict = X_new_b @ theta\n",
    "plt.plot(X_new, y_predict, \"r-\", linewidth=2, label='Final Model Predictions')\n",
    "plt.xlabel(\"$x_1$\")\n",
    "plt.ylabel(\"$y$\", rotation=0)\n",
    "plt.title(\"Final Model Predictions\")\n",
    "plt.legend()\n",
    "plt.grid()\n",
    "plt.show()\n",
    "\n",
    "# Print the final theta values\n",
    "print(\"Final theta values:\")\n",
    "print(theta)\n",
    "\n",
    "# Print the global minimum\n",
    "print(\"Global Minimum:\")\n",
    "print(global_minimum)\n",
    "\n",
    "# Print the local minima\n",
    "print(\"Local Minima:\")\n",
    "for local_min in local_minima:\n",
    "    print(local_min)\n"
   ]
  },
  {
   "cell_type": "code",
   "execution_count": null,
   "metadata": {},
   "outputs": [],
   "source": []
  }
 ],
 "metadata": {
  "colab": {
   "provenance": []
  },
  "kernelspec": {
   "display_name": "Python 3 (ipykernel)",
   "language": "python",
   "name": "python3"
  },
  "language_info": {
   "codemirror_mode": {
    "name": "ipython",
    "version": 3
   },
   "file_extension": ".py",
   "mimetype": "text/x-python",
   "name": "python",
   "nbconvert_exporter": "python",
   "pygments_lexer": "ipython3",
   "version": "3.12.7"
  },
  "nav_menu": {},
  "toc": {
   "navigate_menu": true,
   "number_sections": true,
   "sideBar": true,
   "threshold": 6,
   "toc_cell": false,
   "toc_section_display": "block",
   "toc_window_display": false
  }
 },
 "nbformat": 4,
 "nbformat_minor": 4
}
